{
 "cells": [
  {
   "cell_type": "code",
   "execution_count": 11,
   "metadata": {},
   "outputs": [],
   "source": [
    "import numpy as np\n",
    "import pandas as pd\n",
    "import seaborn as sns\n",
    "import json\n",
    "\n",
    "file = pd.read_json(r\"C:\\Users\\user\\Documents\\contacts.json\", lines = True)"
   ]
  },
  {
   "cell_type": "code",
   "execution_count": 8,
   "metadata": {},
   "outputs": [
    {
     "data": {
      "text/html": [
       "<div>\n",
       "<style scoped>\n",
       "    .dataframe tbody tr th:only-of-type {\n",
       "        vertical-align: middle;\n",
       "    }\n",
       "\n",
       "    .dataframe tbody tr th {\n",
       "        vertical-align: top;\n",
       "    }\n",
       "\n",
       "    .dataframe thead th {\n",
       "        text-align: right;\n",
       "    }\n",
       "</style>\n",
       "<table border=\"1\" class=\"dataframe\">\n",
       "  <thead>\n",
       "    <tr style=\"text-align: right;\">\n",
       "      <th></th>\n",
       "      <th>0</th>\n",
       "      <th>1</th>\n",
       "      <th>2</th>\n",
       "      <th>3</th>\n",
       "      <th>4</th>\n",
       "      <th>5</th>\n",
       "      <th>6</th>\n",
       "      <th>7</th>\n",
       "      <th>8</th>\n",
       "      <th>9</th>\n",
       "      <th>...</th>\n",
       "      <th>499990</th>\n",
       "      <th>499991</th>\n",
       "      <th>499992</th>\n",
       "      <th>499993</th>\n",
       "      <th>499994</th>\n",
       "      <th>499995</th>\n",
       "      <th>499996</th>\n",
       "      <th>499997</th>\n",
       "      <th>499998</th>\n",
       "      <th>499999</th>\n",
       "    </tr>\n",
       "  </thead>\n",
       "  <tbody>\n",
       "    <tr>\n",
       "      <th>0</th>\n",
       "      <td>{'Id': 0, 'Email': 'gkzAbIy@qq.com', 'Phone': ...</td>\n",
       "      <td>{'Id': 1, 'Email': '', 'Phone': '329442681752'...</td>\n",
       "      <td>{'Id': 2, 'Email': '', 'Phone': '9125983679', ...</td>\n",
       "      <td>{'Id': 3, 'Email': 'mdllpYmE@gmail.com', 'Phon...</td>\n",
       "      <td>{'Id': 4, 'Email': '', 'Phone': '300364407', '...</td>\n",
       "      <td>{'Id': 5, 'Email': '', 'Phone': '840113148', '...</td>\n",
       "      <td>{'Id': 6, 'Email': 'hESiBgYTxMnj@hotmail.com',...</td>\n",
       "      <td>{'Id': 7, 'Email': 'hqyunTiaXfIjhO@yahoo.com',...</td>\n",
       "      <td>{'Id': 8, 'Email': 'XGUjcSiDpFKWEUCs@qq.com', ...</td>\n",
       "      <td>{'Id': 9, 'Email': 'osIIQgAiZX@hotmail.com', '...</td>\n",
       "      <td>...</td>\n",
       "      <td>{'Id': 499990, 'Email': '', 'Phone': '88075209...</td>\n",
       "      <td>{'Id': 499991, 'Email': 'ygooASjKOiBvQ@gmail.c...</td>\n",
       "      <td>{'Id': 499992, 'Email': '', 'Phone': '09167168...</td>\n",
       "      <td>{'Id': 499993, 'Email': 'qXUQsYAv@yahoo.com', ...</td>\n",
       "      <td>{'Id': 499994, 'Email': 'btjvtrrKGFKcqgop@qq.c...</td>\n",
       "      <td>{'Id': 499995, 'Email': '', 'Phone': '10072395...</td>\n",
       "      <td>{'Id': 499996, 'Email': '', 'Phone': '57170966...</td>\n",
       "      <td>{'Id': 499997, 'Email': '', 'Phone': '45414599...</td>\n",
       "      <td>{'Id': 499998, 'Email': 'RzSDsyH@hotmail.com',...</td>\n",
       "      <td>{'Id': 499999, 'Email': '', 'Phone': '88005338...</td>\n",
       "    </tr>\n",
       "  </tbody>\n",
       "</table>\n",
       "<p>1 rows × 500000 columns</p>\n",
       "</div>"
      ],
      "text/plain": [
       "                                              0       \\\n",
       "0  {'Id': 0, 'Email': 'gkzAbIy@qq.com', 'Phone': ...   \n",
       "\n",
       "                                              1       \\\n",
       "0  {'Id': 1, 'Email': '', 'Phone': '329442681752'...   \n",
       "\n",
       "                                              2       \\\n",
       "0  {'Id': 2, 'Email': '', 'Phone': '9125983679', ...   \n",
       "\n",
       "                                              3       \\\n",
       "0  {'Id': 3, 'Email': 'mdllpYmE@gmail.com', 'Phon...   \n",
       "\n",
       "                                              4       \\\n",
       "0  {'Id': 4, 'Email': '', 'Phone': '300364407', '...   \n",
       "\n",
       "                                              5       \\\n",
       "0  {'Id': 5, 'Email': '', 'Phone': '840113148', '...   \n",
       "\n",
       "                                              6       \\\n",
       "0  {'Id': 6, 'Email': 'hESiBgYTxMnj@hotmail.com',...   \n",
       "\n",
       "                                              7       \\\n",
       "0  {'Id': 7, 'Email': 'hqyunTiaXfIjhO@yahoo.com',...   \n",
       "\n",
       "                                              8       \\\n",
       "0  {'Id': 8, 'Email': 'XGUjcSiDpFKWEUCs@qq.com', ...   \n",
       "\n",
       "                                              9       ...  \\\n",
       "0  {'Id': 9, 'Email': 'osIIQgAiZX@hotmail.com', '...  ...   \n",
       "\n",
       "                                              499990  \\\n",
       "0  {'Id': 499990, 'Email': '', 'Phone': '88075209...   \n",
       "\n",
       "                                              499991  \\\n",
       "0  {'Id': 499991, 'Email': 'ygooASjKOiBvQ@gmail.c...   \n",
       "\n",
       "                                              499992  \\\n",
       "0  {'Id': 499992, 'Email': '', 'Phone': '09167168...   \n",
       "\n",
       "                                              499993  \\\n",
       "0  {'Id': 499993, 'Email': 'qXUQsYAv@yahoo.com', ...   \n",
       "\n",
       "                                              499994  \\\n",
       "0  {'Id': 499994, 'Email': 'btjvtrrKGFKcqgop@qq.c...   \n",
       "\n",
       "                                              499995  \\\n",
       "0  {'Id': 499995, 'Email': '', 'Phone': '10072395...   \n",
       "\n",
       "                                              499996  \\\n",
       "0  {'Id': 499996, 'Email': '', 'Phone': '57170966...   \n",
       "\n",
       "                                              499997  \\\n",
       "0  {'Id': 499997, 'Email': '', 'Phone': '45414599...   \n",
       "\n",
       "                                              499998  \\\n",
       "0  {'Id': 499998, 'Email': 'RzSDsyH@hotmail.com',...   \n",
       "\n",
       "                                              499999  \n",
       "0  {'Id': 499999, 'Email': '', 'Phone': '88005338...  \n",
       "\n",
       "[1 rows x 500000 columns]"
      ]
     },
     "execution_count": 8,
     "metadata": {},
     "output_type": "execute_result"
    }
   ],
   "source": [
    "file.head()"
   ]
  },
  {
   "cell_type": "code",
   "execution_count": null,
   "metadata": {},
   "outputs": [],
   "source": []
  },
  {
   "cell_type": "code",
   "execution_count": 9,
   "metadata": {},
   "outputs": [],
   "source": [
    "df = pd.read_json(r\"C:\\Users\\user\\Documents\\contacts.json\")\n",
    "df.to_csv(r\"C:\\Users\\user\\Documents\\contacts.csv\", index = None)"
   ]
  },
  {
   "cell_type": "code",
   "execution_count": 10,
   "metadata": {},
   "outputs": [
    {
     "data": {
      "text/html": [
       "<div>\n",
       "<style scoped>\n",
       "    .dataframe tbody tr th:only-of-type {\n",
       "        vertical-align: middle;\n",
       "    }\n",
       "\n",
       "    .dataframe tbody tr th {\n",
       "        vertical-align: top;\n",
       "    }\n",
       "\n",
       "    .dataframe thead th {\n",
       "        text-align: right;\n",
       "    }\n",
       "</style>\n",
       "<table border=\"1\" class=\"dataframe\">\n",
       "  <thead>\n",
       "    <tr style=\"text-align: right;\">\n",
       "      <th></th>\n",
       "      <th>Id</th>\n",
       "      <th>Email</th>\n",
       "      <th>Phone</th>\n",
       "      <th>Contacts</th>\n",
       "      <th>OrderId</th>\n",
       "    </tr>\n",
       "  </thead>\n",
       "  <tbody>\n",
       "    <tr>\n",
       "      <th>0</th>\n",
       "      <td>0</td>\n",
       "      <td>gkzAbIy@qq.com</td>\n",
       "      <td></td>\n",
       "      <td>1</td>\n",
       "      <td></td>\n",
       "    </tr>\n",
       "    <tr>\n",
       "      <th>1</th>\n",
       "      <td>1</td>\n",
       "      <td></td>\n",
       "      <td>329442681752</td>\n",
       "      <td>4</td>\n",
       "      <td>vDDJJcxfLtSfkooPhbYnJdxov</td>\n",
       "    </tr>\n",
       "    <tr>\n",
       "      <th>2</th>\n",
       "      <td>2</td>\n",
       "      <td></td>\n",
       "      <td>9125983679</td>\n",
       "      <td>0</td>\n",
       "      <td></td>\n",
       "    </tr>\n",
       "    <tr>\n",
       "      <th>3</th>\n",
       "      <td>3</td>\n",
       "      <td>mdllpYmE@gmail.com</td>\n",
       "      <td></td>\n",
       "      <td>0</td>\n",
       "      <td>bHquEnCbbsGLqllwryxPsNOxa</td>\n",
       "    </tr>\n",
       "    <tr>\n",
       "      <th>4</th>\n",
       "      <td>4</td>\n",
       "      <td></td>\n",
       "      <td>300364407</td>\n",
       "      <td>2</td>\n",
       "      <td></td>\n",
       "    </tr>\n",
       "  </tbody>\n",
       "</table>\n",
       "</div>"
      ],
      "text/plain": [
       "   Id               Email         Phone  Contacts                    OrderId\n",
       "0   0      gkzAbIy@qq.com                       1                           \n",
       "1   1                      329442681752         4  vDDJJcxfLtSfkooPhbYnJdxov\n",
       "2   2                        9125983679         0                           \n",
       "3   3  mdllpYmE@gmail.com                       0  bHquEnCbbsGLqllwryxPsNOxa\n",
       "4   4                         300364407         2                           "
      ]
     },
     "execution_count": 10,
     "metadata": {},
     "output_type": "execute_result"
    }
   ],
   "source": [
    "df.head()"
   ]
  },
  {
   "cell_type": "code",
   "execution_count": 13,
   "metadata": {},
   "outputs": [
    {
     "name": "stdout",
     "output_type": "stream",
     "text": [
      "<class 'pandas.core.frame.DataFrame'>\n",
      "RangeIndex: 500000 entries, 0 to 499999\n",
      "Data columns (total 5 columns):\n",
      " #   Column    Non-Null Count   Dtype \n",
      "---  ------    --------------   ----- \n",
      " 0   Id        500000 non-null  int64 \n",
      " 1   Email     500000 non-null  object\n",
      " 2   Phone     500000 non-null  object\n",
      " 3   Contacts  500000 non-null  int64 \n",
      " 4   OrderId   500000 non-null  object\n",
      "dtypes: int64(2), object(3)\n",
      "memory usage: 19.1+ MB\n"
     ]
    }
   ],
   "source": [
    "df.info()"
   ]
  },
  {
   "cell_type": "code",
   "execution_count": 12,
   "metadata": {},
   "outputs": [
    {
     "data": {
      "text/plain": [
       "Id          0\n",
       "Email       0\n",
       "Phone       0\n",
       "Contacts    0\n",
       "OrderId     0\n",
       "dtype: int64"
      ]
     },
     "execution_count": 12,
     "metadata": {},
     "output_type": "execute_result"
    }
   ],
   "source": [
    "df.isnull().sum()"
   ]
  },
  {
   "cell_type": "code",
   "execution_count": 21,
   "metadata": {},
   "outputs": [],
   "source": [
    "df_new = df.groupby(['Id', 'Email','Phone','Contacts']).count()['OrderId']"
   ]
  },
  {
   "cell_type": "code",
   "execution_count": 22,
   "metadata": {},
   "outputs": [],
   "source": [
    "df_new = df_new.reset_index()"
   ]
  },
  {
   "cell_type": "code",
   "execution_count": 23,
   "metadata": {},
   "outputs": [],
   "source": [
    "df_new.rename(columns = {'Id': 'TicketId'}, inplace = True)"
   ]
  },
  {
   "cell_type": "code",
   "execution_count": 24,
   "metadata": {},
   "outputs": [
    {
     "name": "stdout",
     "output_type": "stream",
     "text": [
      "        TicketId                Email         Phone  Contacts  OrderId\n",
      "0              0       gkzAbIy@qq.com                       1        1\n",
      "1              1                       329442681752         4        1\n",
      "2              2                         9125983679         0        1\n",
      "3              3   mdllpYmE@gmail.com                       0        1\n",
      "4              4                          300364407         2        1\n",
      "...          ...                  ...           ...       ...      ...\n",
      "499995    499995                        10072395382         2        1\n",
      "499996    499996                       571709661031         4        1\n",
      "499997    499997                         4541459979         2        1\n",
      "499998    499998  RzSDsyH@hotmail.com   98947185431         1        1\n",
      "499999    499999                       880053388839         0        1\n",
      "\n",
      "[500000 rows x 5 columns]\n"
     ]
    }
   ],
   "source": [
    "print(df_new)"
   ]
  },
  {
   "cell_type": "code",
   "execution_count": 25,
   "metadata": {},
   "outputs": [],
   "source": []
  },
  {
   "cell_type": "code",
   "execution_count": 27,
   "metadata": {},
   "outputs": [
    {
     "ename": "NameError",
     "evalue": "name 'figsize' is not defined",
     "output_type": "error",
     "traceback": [
      "\u001b[1;31m---------------------------------------------------------------------------\u001b[0m",
      "\u001b[1;31mNameError\u001b[0m                                 Traceback (most recent call last)",
      "\u001b[1;32m<ipython-input-27-8fd56161dcb2>\u001b[0m in \u001b[0;36m<module>\u001b[1;34m\u001b[0m\n\u001b[0;32m      2\u001b[0m \u001b[1;32mimport\u001b[0m \u001b[0mmatplotlib\u001b[0m\u001b[1;33m.\u001b[0m\u001b[0mpyplot\u001b[0m \u001b[1;32mas\u001b[0m \u001b[0mplt\u001b[0m\u001b[1;33m\u001b[0m\u001b[1;33m\u001b[0m\u001b[0m\n\u001b[0;32m      3\u001b[0m \u001b[1;33m\u001b[0m\u001b[0m\n\u001b[1;32m----> 4\u001b[1;33m \u001b[0mplt\u001b[0m\u001b[1;33m.\u001b[0m\u001b[0mfigure\u001b[0m\u001b[1;33m(\u001b[0m\u001b[0mfigsize\u001b[0m \u001b[1;33m==\u001b[0m \u001b[1;33m(\u001b[0m\u001b[1;36m18\u001b[0m\u001b[1;33m,\u001b[0m\u001b[1;36m8\u001b[0m\u001b[1;33m)\u001b[0m\u001b[1;33m)\u001b[0m\u001b[1;33m\u001b[0m\u001b[1;33m\u001b[0m\u001b[0m\n\u001b[0m\u001b[0;32m      5\u001b[0m \u001b[0msns\u001b[0m\u001b[1;33m.\u001b[0m\u001b[0mdisplot\u001b[0m\u001b[1;33m(\u001b[0m\u001b[0mdf_new\u001b[0m\u001b[1;33m[\u001b[0m\u001b[1;34m'TicketId'\u001b[0m\u001b[1;33m]\u001b[0m\u001b[1;33m)\u001b[0m\u001b[1;33m\u001b[0m\u001b[1;33m\u001b[0m\u001b[0m\n\u001b[0;32m      6\u001b[0m \u001b[0mplt\u001b[0m\u001b[1;33m.\u001b[0m\u001b[0mshow\u001b[0m\u001b[1;33m(\u001b[0m\u001b[1;33m)\u001b[0m\u001b[1;33m\u001b[0m\u001b[1;33m\u001b[0m\u001b[0m\n",
      "\u001b[1;31mNameError\u001b[0m: name 'figsize' is not defined"
     ]
    }
   ],
   "source": [
    "import seaborn as sns\n",
    "import matplotlib.pyplot as plt\n",
    "\n",
    "plt.figure(figsize == (18,8))\n",
    "sns.displot(df_new['TicketId'])\n",
    "plt.show()"
   ]
  },
  {
   "cell_type": "code",
   "execution_count": 28,
   "metadata": {},
   "outputs": [],
   "source": [
    "df_new.to_csv(r\"C:\\Users\\user\\Documents\\submission.csv\")"
   ]
  },
  {
   "cell_type": "code",
   "execution_count": null,
   "metadata": {},
   "outputs": [],
   "source": []
  }
 ],
 "metadata": {
  "kernelspec": {
   "display_name": "Python 3",
   "language": "python",
   "name": "python3"
  },
  "language_info": {
   "codemirror_mode": {
    "name": "ipython",
    "version": 3
   },
   "file_extension": ".py",
   "mimetype": "text/x-python",
   "name": "python",
   "nbconvert_exporter": "python",
   "pygments_lexer": "ipython3",
   "version": "3.8.3"
  }
 },
 "nbformat": 4,
 "nbformat_minor": 4
}
